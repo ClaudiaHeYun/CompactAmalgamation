{
 "cells": [
  {
   "cell_type": "code",
   "execution_count": 11,
   "id": "4383c909",
   "metadata": {},
   "outputs": [
    {
     "data": {
      "text/plain": [
       "lp_conj (generic function with 1 method)"
      ]
     },
     "execution_count": 11,
     "metadata": {},
     "output_type": "execute_result"
    }
   ],
   "source": [
    "include(\"conjecture_section4.jl\")"
   ]
  },
  {
   "cell_type": "markdown",
   "id": "9565b3ab",
   "metadata": {},
   "source": [
    "### Remark 4.10"
   ]
  },
  {
   "cell_type": "code",
   "execution_count": 12,
   "id": "27ecbdf3",
   "metadata": {},
   "outputs": [
    {
     "name": "stdout",
     "output_type": "stream",
     "text": [
      "target = N * z_polynomial(R, n, m) = z^2 + 2*z + 3 + 2*z^-1 + z^-2\n",
      "k = 3\n",
      "P = 3s_{1, 1, 1} + s_{1} + s_{1, 1}\n",
      "Pv = z^2 + 2*z + 3 + 2*z^-1 + z^-2\n",
      "dimension is P(1, 1, 1) = 9\n",
      "check 3rd root of unity P(xi, xi, xi) = 0\n",
      "Pv == target = true\n"
     ]
    },
    {
     "data": {
      "text/plain": [
       "true"
      ]
     },
     "execution_count": 12,
     "metadata": {},
     "output_type": "execute_result"
    }
   ],
   "source": [
    "v = [1,1,-2]\n",
    "b = 3\n",
    "a = 1\n",
    "N = 1\n",
    "ilp = ilp_conj(v,b,a,N)\n",
    "opt, sol = solve_milp(ilp)\n",
    "verify_solution(sol,v,b,a,N)"
   ]
  },
  {
   "cell_type": "code",
   "execution_count": 13,
   "id": "dcb7e105",
   "metadata": {},
   "outputs": [
    {
     "name": "stdout",
     "output_type": "stream",
     "text": [
      "target = N * z_polynomial(R, n, m) = 2*z^5 + 4*z^4 + 6*z^3 + 8*z^2 + 10*z + 12 + 10*z^-1 + 8*z^-2 + 6*z^-3 + 4*z^-4 + 2*z^-5\n",
      "k = 8\n",
      "P = s_{1} + s_{1, 1} + s_{2} + 3s_{2, 1} + s_{2, 2} + s_{3, 1} + s_{3, 2}\n",
      "Pv = 2*z^5 + 4*z^4 + 6*z^3 + 8*z^2 + 10*z + 12 + 10*z^-1 + 8*z^-2 + 6*z^-3 + 4*z^-4 + 2*z^-5\n",
      "dimension is P(1, 1, 1) = 72\n",
      "check 3rd root of unity P(xi, xi, xi) = 0\n",
      "Pv == target = true\n"
     ]
    },
    {
     "data": {
      "text/plain": [
       "true"
      ]
     },
     "execution_count": 13,
     "metadata": {},
     "output_type": "execute_result"
    }
   ],
   "source": [
    "v = [1,1,-2]\n",
    "b = 6\n",
    "a = 1\n",
    "N = 2\n",
    "ilp = ilp_conj(v,b,a,N)\n",
    "opt, sol = solve_milp(ilp)\n",
    "verify_solution(sol,v,b,a,N)"
   ]
  },
  {
   "cell_type": "code",
   "execution_count": 14,
   "id": "d879152a",
   "metadata": {},
   "outputs": [
    {
     "name": "stdout",
     "output_type": "stream",
     "text": [
      "target = N * z_polynomial(R, n, m) = 3*z^8 + 6*z^7 + 9*z^6 + 12*z^5 + 15*z^4 + 18*z^3 + 21*z^2 + 24*z + 27 + 24*z^-1 + 21*z^-2 + 18*z^-3 + 15*z^-4 + 12*z^-5 + 9*z^-6 + 6*z^-7 + 3*z^-8\n",
      "k = 17\n",
      "P = s_{3, 1} + s_{3, 2} + s_{4, 1} + 3s_{4, 2} + s_{4, 3} + s_{5, 2} + s_{5, 3}\n",
      "Pv = 3*z^8 + 6*z^7 + 9*z^6 + 12*z^5 + 15*z^4 + 18*z^3 + 21*z^2 + 24*z + 27 + 24*z^-1 + 21*z^-2 + 18*z^-3 + 15*z^-4 + 12*z^-5 + 9*z^-6 + 6*z^-7 + 3*z^-8\n",
      "dimension is P(1, 1, 1) = 243\n",
      "check 3rd root of unity P(xi, xi, xi) = 0\n",
      "Pv == target = true\n"
     ]
    },
    {
     "data": {
      "text/plain": [
       "true"
      ]
     },
     "execution_count": 14,
     "metadata": {},
     "output_type": "execute_result"
    }
   ],
   "source": [
    "v = [1,1,-2]\n",
    "b = 9\n",
    "a = 1\n",
    "N = 3\n",
    "ilp = ilp_conj(v,b,a,N)\n",
    "opt, sol = solve_milp(ilp)\n",
    "verify_solution(sol,v,b,a,N)"
   ]
  },
  {
   "cell_type": "code",
   "execution_count": 15,
   "id": "3ebf15be",
   "metadata": {},
   "outputs": [
    {
     "name": "stdout",
     "output_type": "stream",
     "text": [
      "target = N * z_polynomial(R, n, m) = 4*z^11 + 8*z^10 + 12*z^9 + 16*z^8 + 20*z^7 + 24*z^6 + 28*z^5 + 32*z^4 + 36*z^3 + 40*z^2 + 44*z + 48 + 44*z^-1 + 40*z^-2 + 36*z^-3 + 32*z^-4 + 28*z^-5 + 24*z^-6 + 20*z^-7 + 16*z^-8 + 12*z^-9 + 8*z^-10 + 4*z^-11\n",
      "k = 28\n",
      "P = s_{5, 2} + s_{5, 3} + s_{6, 2} + 3s_{6, 3} + s_{6, 4} + s_{7, 3} + s_{7, 4}\n",
      "Pv = 4*z^11 + 8*z^10 + 12*z^9 + 16*z^8 + 20*z^7 + 24*z^6 + 28*z^5 + 32*z^4 + 36*z^3 + 40*z^2 + 44*z + 48 + 44*z^-1 + 40*z^-2 + 36*z^-3 + 32*z^-4 + 28*z^-5 + 24*z^-6 + 20*z^-7 + 16*z^-8 + 12*z^-9 + 8*z^-10 + 4*z^-11\n",
      "dimension is P(1, 1, 1) = 576\n",
      "check 3rd root of unity P(xi, xi, xi) = 0\n",
      "Pv == target = true\n"
     ]
    },
    {
     "data": {
      "text/plain": [
       "true"
      ]
     },
     "execution_count": 15,
     "metadata": {},
     "output_type": "execute_result"
    }
   ],
   "source": [
    "v = [1,1,-2]\n",
    "b = 12\n",
    "a = 1\n",
    "N = 4\n",
    "ilp = ilp_conj(v,b,a,N)\n",
    "opt, sol = solve_milp(ilp)\n",
    "verify_solution(sol,v,b,a,N)"
   ]
  },
  {
   "cell_type": "code",
   "execution_count": 16,
   "id": "d787e433",
   "metadata": {},
   "outputs": [
    {
     "name": "stdout",
     "output_type": "stream",
     "text": [
      "target = N * z_polynomial(R, n, m) = 5*z^14 + 10*z^13 + 15*z^12 + 20*z^11 + 25*z^10 + 30*z^9 + 35*z^8 + 40*z^7 + 45*z^6 + 50*z^5 + 55*z^4 + 60*z^3 + 65*z^2 + 70*z + 75 + 70*z^-1 + 65*z^-2 + 60*z^-3 + 55*z^-4 + 50*z^-5 + 45*z^-6 + 40*z^-7 + 35*z^-8 + 30*z^-9 + 25*z^-10 + 20*z^-11 + 15*z^-12 + 10*z^-13 + 5*z^-14\n",
      "k = 43\n",
      "P = s_{7, 3} + s_{7, 4} + s_{8, 3} + 3s_{8, 4} + s_{8, 5} + s_{9, 4} + s_{9, 5}\n",
      "Pv = 5*z^14 + 10*z^13 + 15*z^12 + 20*z^11 + 25*z^10 + 30*z^9 + 35*z^8 + 40*z^7 + 45*z^6 + 50*z^5 + 55*z^4 + 60*z^3 + 65*z^2 + 70*z + 75 + 70*z^-1 + 65*z^-2 + 60*z^-3 + 55*z^-4 + 50*z^-5 + 45*z^-6 + 40*z^-7 + 35*z^-8 + 30*z^-9 + 25*z^-10 + 20*z^-11 + 15*z^-12 + 10*z^-13 + 5*z^-14\n",
      "dimension is P(1, 1, 1) = 1125\n",
      "check 3rd root of unity P(xi, xi, xi) = 0\n",
      "Pv == target = true\n"
     ]
    },
    {
     "data": {
      "text/plain": [
       "true"
      ]
     },
     "execution_count": 16,
     "metadata": {},
     "output_type": "execute_result"
    }
   ],
   "source": [
    "v = [1,1,-2]\n",
    "b = 15\n",
    "a = 1\n",
    "N = 5\n",
    "ilp = ilp_conj(v,b,a,N)\n",
    "opt, sol = solve_milp(ilp)\n",
    "verify_solution(sol,v,b,a,N)"
   ]
  },
  {
   "cell_type": "code",
   "execution_count": 17,
   "id": "51cf2ecc",
   "metadata": {},
   "outputs": [
    {
     "name": "stdout",
     "output_type": "stream",
     "text": [
      "target = N * z_polynomial(R, n, m) = 6*z^17 + 12*z^16 + 18*z^15 + 24*z^14 + 30*z^13 + 36*z^12 + 42*z^11 + 48*z^10 + 54*z^9 + 60*z^8 + 66*z^7 + 72*z^6 + 78*z^5 + 84*z^4 + 90*z^3 + 96*z^2 + 102*z + 108 + 102*z^-1 + 96*z^-2 + 90*z^-3 + 84*z^-4 + 78*z^-5 + 72*z^-6 + 66*z^-7 + 60*z^-8 + 54*z^-9 + 48*z^-10 + 42*z^-11 + 36*z^-12 + 30*z^-13 + 24*z^-14 + 18*z^-15 + 12*z^-16 + 6*z^-17\n",
      "k = 60\n",
      "P = s_{9, 4} + s_{9, 5} + s_{10, 4} + 3s_{10, 5} + s_{10, 6} + s_{11, 5} + s_{11, 6}\n",
      "Pv = 6*z^17 + 12*z^16 + 18*z^15 + 24*z^14 + 30*z^13 + 36*z^12 + 42*z^11 + 48*z^10 + 54*z^9 + 60*z^8 + 66*z^7 + 72*z^6 + 78*z^5 + 84*z^4 + 90*z^3 + 96*z^2 + 102*z + 108 + 102*z^-1 + 96*z^-2 + 90*z^-3 + 84*z^-4 + 78*z^-5 + 72*z^-6 + 66*z^-7 + 60*z^-8 + 54*z^-9 + 48*z^-10 + 42*z^-11 + 36*z^-12 + 30*z^-13 + 24*z^-14 + 18*z^-15 + 12*z^-16 + 6*z^-17\n",
      "dimension is P(1, 1, 1) = 1944\n",
      "check 3rd root of unity P(xi, xi, xi) = 0\n",
      "Pv == target = true\n"
     ]
    },
    {
     "data": {
      "text/plain": [
       "true"
      ]
     },
     "execution_count": 17,
     "metadata": {},
     "output_type": "execute_result"
    }
   ],
   "source": [
    "v = [1,1,-2]\n",
    "b = 18\n",
    "a = 1\n",
    "N = 6\n",
    "ilp = ilp_conj(v,b,a,N)\n",
    "opt, sol = solve_milp(ilp)\n",
    "verify_solution(sol,v,b,a,N)"
   ]
  },
  {
   "cell_type": "code",
   "execution_count": 26,
   "id": "cb7d8227",
   "metadata": {},
   "outputs": [
    {
     "name": "stdout",
     "output_type": "stream",
     "text": [
      "target = N * z_polynomial(R, n, m) = z^28 + 4*z^27 + 10*z^26 + 20*z^25 + 35*z^24 + 56*z^23 + 84*z^22 + 120*z^21 + 165*z^20 + 220*z^19 + 286*z^18 + 364*z^17 + 455*z^16 + 560*z^15 + 680*z^14 + 812*z^13 + 953*z^12 + 1100*z^11 + 1250*z^10 + 1400*z^9 + 1547*z^8 + 1688*z^7 + 1820*z^6 + 1940*z^5 + 2045*z^4 + 2132*z^3 + 2198*z^2 + 2240*z + 2255 + 2240*z^-1 + 2198*z^-2 + 2132*z^-3 + 2045*z^-4 + 1940*z^-5 + 1820*z^-6 + 1688*z^-7 + 1547*z^-8 + 1400*z^-9 + 1250*z^-10 + 1100*z^-11 + 953*z^-12 + 812*z^-13 + 680*z^-14 + 560*z^-15 + 455*z^-16 + 364*z^-17 + 286*z^-18 + 220*z^-19 + 165*z^-20 + 120*z^-21 + 84*z^-22 + 56*z^-23 + 35*z^-24 + 20*z^-25 + 10*z^-26 + 4*z^-27 + z^-28\n",
      "k = 150\n",
      "P = 2s_{1, 1, 1} + 14s_{1} + 5s_{1, 1} + 11s_{2} + s_{2, 1} + s_{2, 2} + s_{3, 1} + s_{3, 3} + s_{4} + 2s_{4, 2} + 6s_{4, 4} + 2s_{5} + 2s_{5, 4} + 3s_{5, 5} + s_{6} + 4s_{6, 1} + 2s_{6, 2} + 2s_{6, 3} + 9s_{6, 4} + s_{6, 5} + 3s_{7} + 3s_{7, 1} + 3s_{7, 3} + s_{7, 4} + 5s_{7, 5} + s_{7, 7} + 2s_{8} + 4s_{8, 1} + 6s_{8, 2} + s_{8, 3} + 3s_{8, 4} + 4s_{8, 5} + 2s_{8, 6} + 2s_{8, 7} + s_{8, 8} + s_{9} + s_{9, 1} + 12s_{9, 2} + 6s_{9, 3} + 2s_{9, 4} + 3s_{9, 5} + 9s_{9, 6} + 8s_{9, 7} + 6s_{9, 8} + 4s_{10, 2} + 5s_{10, 3} + 8s_{10, 4} + 3s_{10, 5} + 7s_{10, 6} + 9s_{10, 7} + 2s_{10, 8} + s_{11} + s_{11, 1} + 4s_{11, 2} + 5s_{11, 4} + 3s_{11, 6} + s_{11, 7} + s_{11, 8} + s_{11, 9} + 2s_{11, 10} + s_{11, 11} + s_{12, 2} + s_{12, 3} + 3s_{12, 6} + 5s_{12, 9} + s_{12, 11} + s_{13} + s_{13, 1} + 4s_{13, 5} + 6s_{13, 6} + 6s_{13, 7} + s_{13, 8} + 2s_{13, 9} + s_{13, 12} + s_{14} + 3s_{14, 2} + 2s_{14, 3} + 2s_{14, 5} + 2s_{14, 6} + 3s_{14, 7} + s_{14, 8} + 4s_{14, 11} + s_{14, 14} + s_{15, 3} + 3s_{15, 7} + 3s_{15, 8} + 2s_{15, 11} + s_{15, 12} + s_{16, 7} + 3s_{16, 8}\n",
      "Pv = z^28 + 4*z^27 + 10*z^26 + 20*z^25 + 35*z^24 + 56*z^23 + 84*z^22 + 120*z^21 + 165*z^20 + 220*z^19 + 286*z^18 + 364*z^17 + 455*z^16 + 560*z^15 + 680*z^14 + 812*z^13 + 953*z^12 + 1100*z^11 + 1250*z^10 + 1400*z^9 + 1547*z^8 + 1688*z^7 + 1820*z^6 + 1940*z^5 + 2045*z^4 + 2132*z^3 + 2198*z^2 + 2240*z + 2255 + 2240*z^-1 + 2198*z^-2 + 2132*z^-3 + 2045*z^-4 + 1940*z^-5 + 1820*z^-6 + 1688*z^-7 + 1547*z^-8 + 1400*z^-9 + 1250*z^-10 + 1100*z^-11 + 953*z^-12 + 812*z^-13 + 680*z^-14 + 560*z^-15 + 455*z^-16 + 364*z^-17 + 286*z^-18 + 220*z^-19 + 165*z^-20 + 120*z^-21 + 84*z^-22 + 56*z^-23 + 35*z^-24 + 20*z^-25 + 10*z^-26 + 4*z^-27 + z^-28\n",
      "dimension is P(1, 1, 1) = 50625\n",
      "check 3rd root of unity P(xi, xi, xi) = 0\n",
      "Pv == target = true\n",
      "pressed CTRL-C 1 times (5 times for forcing termination)\n"
     ]
    },
    {
     "data": {
      "text/plain": [
       "true"
      ]
     },
     "execution_count": 26,
     "metadata": {},
     "output_type": "execute_result"
    }
   ],
   "source": [
    "v = [1,1,-2]\n",
    "b = 15\n",
    "a = 2\n",
    "N = 1\n",
    "ilp = ilp_conj(v,b,a,N)\n",
    "opt, sol = solve_milp(ilp)\n",
    "verify_solution(sol,v,b,a,N)"
   ]
  },
  {
   "cell_type": "code",
   "execution_count": 18,
   "id": "d0f08ab9",
   "metadata": {},
   "outputs": [
    {
     "name": "stdout",
     "output_type": "stream",
     "text": [
      "target = N * z_polynomial(R, n, m) = z^6 + 6*z^5 + 21*z^4 + 50*z^3 + 90*z^2 + 126*z + 141 + 126*z^-1 + 90*z^-2 + 50*z^-3 + 21*z^-4 + 6*z^-5 + z^-6\n",
      "k = 11\n",
      "P = 47s_{1, 1, 1} + 42s_{1} + 42s_{1, 1} + 12s_{2} + 22s_{2, 1} + 12s_{2, 2} + s_{3} + 3s_{3, 1} + 3s_{3, 2} + s_{3, 3}\n",
      "Pv = z^6 + 6*z^5 + 21*z^4 + 50*z^3 + 90*z^2 + 126*z + 141 + 126*z^-1 + 90*z^-2 + 50*z^-3 + 21*z^-4 + 6*z^-5 + z^-6\n",
      "dimension is P(1, 1, 1) = 729\n",
      "check 3rd root of unity P(xi, xi, xi) = 0\n",
      "Pv == target = true\n"
     ]
    },
    {
     "data": {
      "text/plain": [
       "true"
      ]
     },
     "execution_count": 18,
     "metadata": {},
     "output_type": "execute_result"
    }
   ],
   "source": [
    "v = [1,1,-2]\n",
    "b = 3\n",
    "a = 3\n",
    "N = 1\n",
    "ilp = ilp_conj(v,b,a,N)\n",
    "opt, sol = solve_milp(ilp)\n",
    "verify_solution(sol,v,b,a,N)"
   ]
  },
  {
   "cell_type": "code",
   "execution_count": 19,
   "id": "587c80b9",
   "metadata": {},
   "outputs": [
    {
     "name": "stdout",
     "output_type": "stream",
     "text": [
      "target = N * z_polynomial(R, n, m) = 2*z^15 + 12*z^14 + 42*z^13 + 112*z^12 + 252*z^11 + 504*z^10 + 912*z^9 + 1512*z^8 + 2322*z^7 + 3332*z^6 + 4494*z^5 + 5712*z^4 + 6862*z^3 + 7812*z^2 + 8442*z + 8664 + 8442*z^-1 + 7812*z^-2 + 6862*z^-3 + 5712*z^-4 + 4494*z^-5 + 3332*z^-6 + 2322*z^-7 + 1512*z^-8 + 912*z^-9 + 504*z^-10 + 252*z^-11 + 112*z^-12 + 42*z^-13 + 12*z^-14 + 2*z^-15\n",
      "k = 48\n",
      "P = 112s_{2} + 2s_{2, 1} + 112s_{2, 2} + 279s_{3} + 323s_{3, 1} + 323s_{3, 2} + 279s_{3, 3} + 100s_{4} + 269s_{4, 1} + 402s_{4, 2} + 269s_{4, 3} + 100s_{4, 4} + 27s_{5, 1} + 195s_{5, 2} + 195s_{5, 3} + 27s_{5, 4} + 5s_{6, 1} + 67s_{6, 2} + 133s_{6, 3} + 67s_{6, 4} + 5s_{6, 5} + s_{7} + 16s_{7, 2} + 41s_{7, 3} + 41s_{7, 4} + 16s_{7, 5} + s_{7, 7} + s_{8, 1} + 2s_{8, 2} + 9s_{8, 3} + 12s_{8, 4} + 9s_{8, 5} + 2s_{8, 6} + s_{8, 7} + s_{9, 4} + s_{9, 5}\n",
      "Pv = 2*z^15 + 12*z^14 + 42*z^13 + 112*z^12 + 252*z^11 + 504*z^10 + 912*z^9 + 1512*z^8 + 2322*z^7 + 3332*z^6 + 4494*z^5 + 5712*z^4 + 6862*z^3 + 7812*z^2 + 8442*z + 8664 + 8442*z^-1 + 7812*z^-2 + 6862*z^-3 + 5712*z^-4 + 4494*z^-5 + 3332*z^-6 + 2322*z^-7 + 1512*z^-8 + 912*z^-9 + 504*z^-10 + 252*z^-11 + 112*z^-12 + 42*z^-13 + 12*z^-14 + 2*z^-15\n",
      "dimension is P(1, 1, 1) = 93312\n",
      "check 3rd root of unity P(xi, xi, xi) = 0\n",
      "Pv == target = true\n"
     ]
    },
    {
     "data": {
      "text/plain": [
       "true"
      ]
     },
     "execution_count": 19,
     "metadata": {},
     "output_type": "execute_result"
    }
   ],
   "source": [
    "v = [1,1,-2]\n",
    "b = 6\n",
    "a = 3\n",
    "N = 2\n",
    "ilp = ilp_conj(v,b,a,N)\n",
    "opt, sol = solve_milp(ilp)\n",
    "verify_solution(sol,v,b,a,N)"
   ]
  },
  {
   "cell_type": "code",
   "execution_count": 20,
   "id": "4fdb3d95",
   "metadata": {},
   "outputs": [
    {
     "name": "stdout",
     "output_type": "stream",
     "text": [
      "target = N * z_polynomial(R, n, m) = z^24 + 6*z^23 + 21*z^22 + 56*z^21 + 126*z^20 + 252*z^19 + 462*z^18 + 792*z^17 + 1287*z^16 + 1996*z^15 + 2967*z^14 + 4242*z^13 + 5852*z^12 + 7812*z^11 + 10116*z^10 + 12732*z^9 + 15597*z^8 + 18612*z^7 + 21652*z^6 + 24576*z^5 + 27237*z^4 + 29492*z^3 + 31212*z^2 + 32292*z + 32661 + 32292*z^-1 + 31212*z^-2 + 29492*z^-3 + 27237*z^-4 + 24576*z^-5 + 21652*z^-6 + 18612*z^-7 + 15597*z^-8 + 12732*z^-9 + 10116*z^-10 + 7812*z^-11 + 5852*z^-12 + 4242*z^-13 + 2967*z^-14 + 1996*z^-15 + 1287*z^-16 + 792*z^-17 + 462*z^-18 + 252*z^-19 + 126*z^-20 + 56*z^-21 + 21*z^-22 + 6*z^-23 + z^-24\n",
      "k = 113\n",
      "P = 3s_{3, 1} + 3s_{3, 2} + 24s_{4} + 5s_{4, 2} + 24s_{4, 4} + 198s_{5} + 216s_{5, 1} + 42s_{5, 2} + 42s_{5, 3} + 216s_{5, 4} + 198s_{5, 5} + 135s_{6} + 409s_{6, 1} + 418s_{6, 2} + 149s_{6, 3} + 418s_{6, 4} + 409s_{6, 5} + 135s_{6, 6} + 100s_{7, 1} + 335s_{7, 2} + 278s_{7, 3} + 278s_{7, 4} + 335s_{7, 5} + 100s_{7, 6} + 11s_{8, 2} + 118s_{8, 3} + 224s_{8, 4} + 118s_{8, 5} + 11s_{8, 6} + 4s_{9, 2} + 7s_{9, 3} + 208s_{9, 4} + 208s_{9, 5} + 7s_{9, 6} + 4s_{9, 7} + 61s_{10, 4} + 178s_{10, 5} + 61s_{10, 6} + s_{11, 3} + 4s_{11, 4} + 67s_{11, 5} + 67s_{11, 6} + 4s_{11, 7} + s_{11, 8} + s_{12} + 2s_{12, 4} + 18s_{12, 5} + 46s_{12, 6} + 18s_{12, 7} + 2s_{12, 8} + s_{12, 12} + s_{13, 5} + 11s_{13, 6} + 11s_{13, 7} + s_{13, 8} + s_{14, 5} + 3s_{14, 6} + 6s_{14, 7} + 3s_{14, 8} + s_{14, 9}\n",
      "Pv = z^24 + 6*z^23 + 21*z^22 + 56*z^21 + 126*z^20 + 252*z^19 + 462*z^18 + 792*z^17 + 1287*z^16 + 1996*z^15 + 2967*z^14 + 4242*z^13 + 5852*z^12 + 7812*z^11 + 10116*z^10 + 12732*z^9 + 15597*z^8 + 18612*z^7 + 21652*z^6 + 24576*z^5 + 27237*z^4 + 29492*z^3 + 31212*z^2 + 32292*z + 32661 + 32292*z^-1 + 31212*z^-2 + 29492*z^-3 + 27237*z^-4 + 24576*z^-5 + 21652*z^-6 + 18612*z^-7 + 15597*z^-8 + 12732*z^-9 + 10116*z^-10 + 7812*z^-11 + 5852*z^-12 + 4242*z^-13 + 2967*z^-14 + 1996*z^-15 + 1287*z^-16 + 792*z^-17 + 462*z^-18 + 252*z^-19 + 126*z^-20 + 56*z^-21 + 21*z^-22 + 6*z^-23 + z^-24\n",
      "dimension is P(1, 1, 1) = 531441\n",
      "check 3rd root of unity P(xi, xi, xi) = 0\n",
      "Pv == target = true\n"
     ]
    },
    {
     "data": {
      "text/plain": [
       "true"
      ]
     },
     "execution_count": 20,
     "metadata": {},
     "output_type": "execute_result"
    }
   ],
   "source": [
    "v = [1,1,-2]\n",
    "b = 9\n",
    "a = 3\n",
    "N = 1\n",
    "ilp = ilp_conj(v,b,a,N)\n",
    "opt, sol = solve_milp(ilp)\n",
    "verify_solution(sol,v,b,a,N)"
   ]
  },
  {
   "cell_type": "code",
   "execution_count": 21,
   "id": "2346482e",
   "metadata": {},
   "outputs": [
    {
     "name": "stdout",
     "output_type": "stream",
     "text": [
      "target = N * z_polynomial(R, n, m) = 2*z^33 + 12*z^32 + 42*z^31 + 112*z^30 + 252*z^29 + 504*z^28 + 924*z^27 + 1584*z^26 + 2574*z^25 + 4004*z^24 + 6006*z^23 + 8736*z^22 + 12364*z^21 + 17064*z^20 + 23004*z^19 + 30336*z^18 + 39186*z^17 + 49644*z^16 + 61754*z^15 + 75504*z^14 + 90816*z^13 + 107536*z^12 + 125424*z^11 + 144144*z^10 + 163284*z^9 + 182376*z^8 + 200916*z^7 + 218384*z^6 + 234264*z^5 + 248064*z^4 + 259336*z^3 + 267696*z^2 + 272844*z + 274584 + 272844*z^-1 + 267696*z^-2 + 259336*z^-3 + 248064*z^-4 + 234264*z^-5 + 218384*z^-6 + 200916*z^-7 + 182376*z^-8 + 163284*z^-9 + 144144*z^-10 + 125424*z^-11 + 107536*z^-12 + 90816*z^-13 + 75504*z^-14 + 61754*z^-15 + 49644*z^-16 + 39186*z^-17 + 30336*z^-18 + 23004*z^-19 + 17064*z^-20 + 12364*z^-21 + 8736*z^-22 + 6006*z^-23 + 4004*z^-24 + 2574*z^-25 + 1584*z^-26 + 924*z^-27 + 504*z^-28 + 252*z^-29 + 112*z^-30 + 42*z^-31 + 12*z^-32 + 2*z^-33\n",
      "k = 204\n",
      "P = s_{5} + 2s_{6, 1} + 3s_{6, 2} + s_{6, 3} + 2s_{6, 5} + 429s_{7} + 357s_{7, 1} + 4s_{7, 2} + 8s_{7, 3} + 6s_{7, 4} + 4s_{7, 5} + 363s_{7, 6} + 429s_{7, 7} + 502s_{8} + 1176s_{8, 1} + 1061s_{8, 2} + 421s_{8, 3} + 27s_{8, 4} + 463s_{8, 5} + 1061s_{8, 6} + 1176s_{8, 7} + 499s_{8, 8} + 53s_{9} + 521s_{9, 1} + 1381s_{9, 2} + 1770s_{9, 3} + 695s_{9, 4} + 725s_{9, 5} + 1770s_{9, 6} + 1346s_{9, 7} + 521s_{9, 8} + 53s_{9, 9} + 199s_{10, 2} + 974s_{10, 3} + 990s_{10, 4} + 37s_{10, 5} + 978s_{10, 6} + 974s_{10, 7} + 199s_{10, 8} + 2s_{10, 9} + 5s_{11, 1} + s_{11, 2} + 2s_{11, 3} + 474s_{11, 4} + 417s_{11, 5} + 393s_{11, 6} + 474s_{11, 7} + 28s_{11, 8} + s_{11, 9} + 5s_{11, 10} + s_{12, 2} + s_{12, 4} + 471s_{12, 5} + 938s_{12, 6} + 453s_{12, 7} + s_{12, 8} + s_{12, 10} + s_{13, 5} + 659s_{13, 6} + 659s_{13, 7} + s_{13, 8} + 221s_{14, 6} + 658s_{14, 7} + 221s_{14, 8} + 281s_{15, 7} + 281s_{15, 8} + s_{16} + 2s_{16, 4} + 83s_{16, 7} + 252s_{16, 8} + 83s_{16, 9} + 2s_{16, 12} + s_{16, 16} + s_{17, 1} + s_{17, 5} + s_{17, 6} + 92s_{17, 8} + 92s_{17, 9} + s_{17, 11} + s_{17, 12} + s_{17, 16} + 2s_{18, 7} + 24s_{18, 8} + 69s_{18, 9} + 24s_{18, 10} + 2s_{18, 11} + s_{19, 8} + 17s_{19, 9} + 17s_{19, 10} + s_{19, 11} + 3s_{20, 9} + 9s_{20, 10} + 3s_{20, 11} + s_{21, 10} + s_{21, 11}\n",
      "Pv = 2*z^33 + 12*z^32 + 42*z^31 + 112*z^30 + 252*z^29 + 504*z^28 + 924*z^27 + 1584*z^26 + 2574*z^25 + 4004*z^24 + 6006*z^23 + 8736*z^22 + 12364*z^21 + 17064*z^20 + 23004*z^19 + 30336*z^18 + 39186*z^17 + 49644*z^16 + 61754*z^15 + 75504*z^14 + 90816*z^13 + 107536*z^12 + 125424*z^11 + 144144*z^10 + 163284*z^9 + 182376*z^8 + 200916*z^7 + 218384*z^6 + 234264*z^5 + 248064*z^4 + 259336*z^3 + 267696*z^2 + 272844*z + 274584 + 272844*z^-1 + 267696*z^-2 + 259336*z^-3 + 248064*z^-4 + 234264*z^-5 + 218384*z^-6 + 200916*z^-7 + 182376*z^-8 + 163284*z^-9 + 144144*z^-10 + 125424*z^-11 + 107536*z^-12 + 90816*z^-13 + 75504*z^-14 + 61754*z^-15 + 49644*z^-16 + 39186*z^-17 + 30336*z^-18 + 23004*z^-19 + 17064*z^-20 + 12364*z^-21 + 8736*z^-22 + 6006*z^-23 + 4004*z^-24 + 2574*z^-25 + 1584*z^-26 + 924*z^-27 + 504*z^-28 + 252*z^-29 + 112*z^-30 + 42*z^-31 + 12*z^-32 + 2*z^-33\n",
      "dimension is P(1, 1, 1) = 5971968\n",
      "check 3rd root of unity P(xi, xi, xi) = 0\n",
      "Pv == target = true\n",
      "pressed CTRL-C 1 times (5 times for forcing termination)\n"
     ]
    },
    {
     "data": {
      "text/plain": [
       "true"
      ]
     },
     "execution_count": 21,
     "metadata": {},
     "output_type": "execute_result"
    }
   ],
   "source": [
    "v = [1,1,-2]\n",
    "b = 12\n",
    "a = 3\n",
    "N = 2\n",
    "ilp = ilp_conj(v,b,a,N)\n",
    "opt, sol = solve_milp(ilp)\n",
    "verify_solution(sol,v,b,a,N)"
   ]
  },
  {
   "cell_type": "code",
   "execution_count": null,
   "id": "8f3702b3",
   "metadata": {},
   "outputs": [],
   "source": []
  }
 ],
 "metadata": {
  "kernelspec": {
   "display_name": "Julia 1.8.5",
   "language": "julia",
   "name": "julia-1.8"
  },
  "language_info": {
   "file_extension": ".jl",
   "mimetype": "application/julia",
   "name": "julia",
   "version": "1.8.5"
  }
 },
 "nbformat": 4,
 "nbformat_minor": 5
}
